{
 "cells": [
  {
   "cell_type": "markdown",
   "id": "92462130-d1ae-4791-b2f0-3c48dd5bf0f8",
   "metadata": {},
   "source": [
    "Pancreas: Run64_Pankreas_ROI6, Run64_Pankreas_ROI8, Run64_Pankreas_ROI10, Run64_Pankreas_ROI12, Run64_Pankreas_ROI14, Run64_Pankreas_ROI15, Run64_Pankreas_ROI19, Run64_Pankreas_ROI22"
   ]
  },
  {
   "cell_type": "code",
   "execution_count": null,
   "id": "a9935b2f-fd15-4a73-b018-707258057a6e",
   "metadata": {},
   "outputs": [],
   "source": [
    "from anndata import AnnData\n",
    "import anndata as ad\n",
    "import scanpy as sc\n",
    "import squidpy as sq\n",
    "import pandas as pd\n",
    "import numpy as np\n",
    "import seaborn as sns\n",
    "from numpy.random import default_rng\n",
    "import matplotlib.pyplot as plt\n",
    "from scipy.stats import zscore\n",
    "#from matplotlib.pyplot import figure\n",
    "\n",
    "sc.logging.print_header()\n",
    "print(f\"squidpy=={sq.__version__}\")"
   ]
  },
  {
   "cell_type": "markdown",
   "id": "255e6709-49e9-48c4-8aec-f6da924b524c",
   "metadata": {},
   "source": [
    "# Settings"
   ]
  },
  {
   "cell_type": "code",
   "execution_count": null,
   "id": "c5fc47b9-5711-4619-97a8-e570d4b9eccb",
   "metadata": {},
   "outputs": [],
   "source": [
    "sample = 'ROI15'"
   ]
  },
  {
   "cell_type": "code",
   "execution_count": null,
   "id": "b52c7cb2-6b83-4fbc-b313-5e9cfa50b5d2",
   "metadata": {},
   "outputs": [],
   "source": [
    "# save results in:\n",
    "import os\n",
    "# Make a single directory\n",
    "if not os.path.exists('results_subcluster_' + sample):\n",
    "    os.mkdir('results_subcluster_' + sample)"
   ]
  },
  {
   "cell_type": "code",
   "execution_count": null,
   "id": "5a1c4918-3879-49f0-b15d-d08e24229377",
   "metadata": {},
   "outputs": [],
   "source": [
    "# figure & saving settings\n",
    "sc.settings.set_figure_params(dpi=220, fontsize=12, dpi_save=700, figsize=(10,10))\n",
    "sc.settings.figdir = 'results_subcluster_' + sample"
   ]
  },
  {
   "cell_type": "markdown",
   "id": "206a86ca-d40a-4a87-b4b5-92b9f8d642b7",
   "metadata": {},
   "source": [
    "# Read in data"
   ]
  },
  {
   "cell_type": "code",
   "execution_count": null,
   "id": "5f62b405-6a37-4b79-8d31-01fad360e7aa",
   "metadata": {
    "tags": []
   },
   "outputs": [],
   "source": [
    "adata = sc.read_h5ad('data/' + sample + '.h5ad')\n",
    "adata"
   ]
  },
  {
   "cell_type": "markdown",
   "id": "19e8c174-6a6c-44ac-a120-e5fe098d8445",
   "metadata": {},
   "source": [
    "# Assign immune/ non immune cells"
   ]
  },
  {
   "cell_type": "code",
   "execution_count": null,
   "id": "0c43a6a5-2e7f-43df-8b2d-ec5fa068cb33",
   "metadata": {},
   "outputs": [],
   "source": [
    "sc.settings.set_figure_params(dpi=220, fontsize=20, dpi_save=700, figsize=(10,10))\n",
    "sc.pl.umap(adata, color=['CD45', 'Cytokeratin'], s=20, use_raw=False,  legend_fontsize=12, color_map='coolwarm', vcenter=0)"
   ]
  },
  {
   "cell_type": "code",
   "execution_count": null,
   "id": "d34f9830-863d-4b26-8684-bdcd4d2405c9",
   "metadata": {},
   "outputs": [],
   "source": [
    "immune_type= {\n",
    "'0' : '0',\n",
    "'1' : '1',\n",
    "'2' : 'Tumour cells',\n",
    "'3' : 'Tumour cells',\n",
    "'4' :  'Tumour cells',\n",
    "'5' :  'Tumour cells',\n",
    "'6' :  'Tumour cells',\n",
    "'7' : 'Tumour cells',\n",
    "'8' :  'Tumour cells',\n",
    "'9' :  'Tumour cells',\n",
    "'10' :  'Tumour cells',\n",
    "'11' :  'Tumour cells',\n",
    "'12' :  'Tumour cells',\n",
    "'13' :  'Tumour cells',\n",
    "'14' :  'Tumour cells',\n",
    "'15' :  'Tumour cells',\n",
    "'16' :  'Mix',\n",
    "'17' :  'Tumour cells',\n",
    "'18' :  'Immune cells',\n",
    "'19' :  'Immune cells',\n",
    "'20' :  'Tumour cells',\n",
    "'21' :  'Immune cells',\n",
    "'22' :  'Tumour cells',\n",
    "'23' :  'Tumour cells',\n",
    "'24' :  '24',\n",
    "'25' :  'Tumour cells',\n",
    "'26' :  'Mix',\n",
    "'27' :  'Tumour cells',\n",
    "'28' :  'Tumour cells',\n",
    "'29' :  'Tumour cells',\n",
    "'30' :  'Tumour cells',\n",
    "'31' :  'Tumour cells',\n",
    "'32' :  'Tumour cells',\n",
    "'33' :  'Tumour cells',\n",
    "'34' :  'Tumour cells',\n",
    "'35' :  '35',\n",
    "'36' :  '36',\n",
    "'37' :  '37',\n",
    "}\n",
    "adata.obs['immune_annotation'] = (adata.obs['leiden'].map(immune_type).astype('category'))"
   ]
  },
  {
   "cell_type": "code",
   "execution_count": null,
   "id": "b7104d24-ce00-4e1f-8fa4-8925f14a77be",
   "metadata": {},
   "outputs": [],
   "source": [
    "sc.pl.umap(adata, color=['immune_annotation', 'CD45'], s=20, use_raw=False,  legend_fontsize=10, color_map='coolwarm', vcenter=0,  legend_loc='on data')\n",
    "sc.pl.umap(adata, color=['immune_annotation', 'Cytokeratin'], s=20, use_raw=False,  legend_fontsize=10, color_map='coolwarm', vcenter=0,  legend_loc='on data')"
   ]
  },
  {
   "cell_type": "code",
   "execution_count": null,
   "id": "ce4b1d05-c800-443f-a092-39b0ecd9c990",
   "metadata": {},
   "outputs": [],
   "source": []
  },
  {
   "cell_type": "markdown",
   "id": "fa17aaa3-17eb-4598-b4dc-ce2bed945295",
   "metadata": {},
   "source": [
    "# First annotation of original Leiden"
   ]
  },
  {
   "cell_type": "code",
   "execution_count": null,
   "id": "0a78be22-1a82-4efa-aaae-a270d11bd770",
   "metadata": {},
   "outputs": [],
   "source": [
    "first_annotation = {\n",
    "'0' : 'Granulocyte/ CAF',\n",
    "'1' : 'Granulocyte/ CAF',\n",
    "'2' : 'Endothel?',\n",
    "'3' : 'CD4+ T cells',\n",
    "'4' :  'CD4+ T cells',\n",
    "'5' :  'Tumour cells',\n",
    "'6' :  'Collagen ',\n",
    "'7' : 'M2 Macrophages',\n",
    "'8' :  'Dendritic cells/ Mast cells',\n",
    "'9' :  'Dendritic cells/ Mast cells',\n",
    "'10' : 'Dendritic cells', \n",
    "'11' :  'M2 Macrophages',\n",
    "'12' :  '?',\n",
    "'13' :  'CD8+ T cells',\n",
    "'14' :  'Granulocyte',\n",
    "'15' :  'M1 Macrophages',\n",
    "'16' :  'Tumour cells',\n",
    "'17' :  'B cells',\n",
    "'18' :  'Collagen ',\n",
    "'19' :  'Dendritic cells', \n",
    "'20' :  'Dendritic cells/ Mast cells',\n",
    "'21' :  'CD8+ T cells',\n",
    "'22' :  'Endothel?',\n",
    "'23' :  'M2 Macrophages',\n",
    "'24' :  'Collagen / CAF',\n",
    "'25' :  'Tumour cells',\n",
    "'26' :  'NK cells',\n",
    "'27' :  'Granulocyte',\n",
    "'28' :  'Plasma cells',\n",
    "'29' :  'Fibroblasts',\n",
    "'30' :  'Collagen ',\n",
    "'31' :  'Unknown',\n",
    "'32' :  'Plasma cells',\n",
    "'33' :  'Unknown',\n",
    "'34' :  'Fibroblasts',\n",
    "\n",
    "}\n",
    "adata.obs['first_annotation'] = (adata.obs['leiden'].map(first_annotation).astype('category'))"
   ]
  },
  {
   "cell_type": "code",
   "execution_count": null,
   "id": "e2e8d580-9f68-4d6f-ad47-a61d082ca84a",
   "metadata": {},
   "outputs": [],
   "source": [
    "sc.settings.set_figure_params(dpi=220, fontsize=5, dpi_save=700, figsize=(10,10))\n",
    "sc.pl.umap(adata, color=['first_annotation'], s=20, use_raw=False,  legend_fontsize=12, title = sample, color_map='coolwarm', vcenter=0)\n",
    "sc.pl.umap(adata, color=['first_annotation', 'CD45'], s=20, use_raw=False, legend_fontsize=7,  title = sample, legend_loc='on data', color_map='coolwarm', vcenter=0)"
   ]
  },
  {
   "cell_type": "code",
   "execution_count": null,
   "id": "cff967da-9676-4c77-828e-3174694030ef",
   "metadata": {},
   "outputs": [],
   "source": []
  },
  {
   "cell_type": "markdown",
   "id": "d66971ae-eae4-4595-b5a1-f9d7fea23a4a",
   "metadata": {},
   "source": [
    "# Choose cluster"
   ]
  },
  {
   "cell_type": "code",
   "execution_count": null,
   "id": "04657c79-a1a7-4dda-b31b-8414fba75e16",
   "metadata": {
    "tags": []
   },
   "outputs": [],
   "source": [
    "# get IDs for every Cluster\n",
    "def getCluster(numCluster):\n",
    "    id_of_cluster = [key for key, val in  adata.obs['leiden'].items() if val == str(numCluster)] # get all IDs of one cluster\n",
    "    clusterID = adata.to_df().loc[id_of_cluster] # generate a dataframe with only the IDs of one cluster \n",
    "    return clusterID"
   ]
  },
  {
   "cell_type": "code",
   "execution_count": null,
   "id": "ed42077e-76c9-49d7-a6a9-8aa792cc4063",
   "metadata": {
    "tags": []
   },
   "outputs": [],
   "source": [
    "cluster0 = getCluster(0)\n",
    "cluster1 = getCluster(1)\n",
    "cluster2 = getCluster(2)\n",
    "cluster3 = getCluster(3)\n",
    "cluster4 = getCluster(4)\n",
    "cluster5 = getCluster(5)\n",
    "cluster6 = getCluster(6)\n",
    "cluster7 = getCluster(7)\n",
    "cluster8 = getCluster(8)\n",
    "cluster9 = getCluster(9)\n",
    "cluster10 = getCluster(10)\n",
    "cluster11 = getCluster(11)\n",
    "cluster12 = getCluster(12)\n",
    "cluster13 = getCluster(13)\n",
    "cluster14 = getCluster(14)\n",
    "cluster15 = getCluster(15)\n",
    "cluster16 = getCluster(16)\n",
    "cluster17 = getCluster(17)\n",
    "cluster18 = getCluster(18)\n",
    "cluster19 = getCluster(19)\n",
    "cluster20 = getCluster(20)\n",
    "cluster21 = getCluster(21)\n",
    "cluster22 = getCluster(22)\n",
    "cluster23 = getCluster(23)\n",
    "cluster24 = getCluster(24)\n",
    "cluster25 = getCluster(25)\n",
    "cluster26 = getCluster(26)\n",
    "cluster27 = getCluster(27)\n",
    "cluster28 = getCluster(28)\n",
    "cluster29 = getCluster(29)\n",
    "cluster30 = getCluster(30)\n",
    "cluster31 = getCluster(31)\n",
    "cluster32 = getCluster(32)\n",
    "cluster33 = getCluster(33)\n",
    "cluster34 = getCluster(34)\n",
    "cluster35 = getCluster(35)\n",
    "cluster36 = getCluster(36)\n",
    "cluster37 = getCluster(37)\n",
    "cluster38 = getCluster(38)\n",
    "cluster39 = getCluster(39)\n",
    "cluster40 = getCluster(40)"
   ]
  },
  {
   "cell_type": "code",
   "execution_count": null,
   "id": "7b2acd6a-10ff-4fc9-91b7-5de3acbb0d23",
   "metadata": {},
   "outputs": [],
   "source": [
    "# generate AnnData for every Subcluster\n",
    "cluster0 = AnnData(cluster0)\n",
    "cluster1 = AnnData(cluster1)\n",
    "cluster2 = AnnData(cluster2)\n",
    "cluster3 = AnnData(cluster3)\n",
    "cluster4 = AnnData(cluster4)\n",
    "cluster5 = AnnData(cluster5)\n",
    "cluster6 = AnnData(cluster6)\n",
    "cluster7 = AnnData(cluster7)\n",
    "cluster8 = AnnData(cluster8)\n",
    "cluster9 = AnnData(cluster9)\n",
    "cluster10 = AnnData(cluster10)\n",
    "cluster11 = AnnData(cluster11)\n",
    "cluster12 = AnnData(cluster12)\n",
    "cluster13 = AnnData(cluster13)\n",
    "cluster14 = AnnData(cluster14)\n",
    "cluster15 = AnnData(cluster15)\n",
    "cluster16 = AnnData(cluster16)\n",
    "cluster17 = AnnData(cluster17)\n",
    "cluster18 = AnnData(cluster18)\n",
    "cluster19 = AnnData(cluster19)\n",
    "cluster20 = AnnData(cluster20)\n",
    "cluster21 = AnnData(cluster21)\n",
    "cluster22 = AnnData(cluster22)\n",
    "cluster23 = AnnData(cluster23)\n",
    "cluster24 = AnnData(cluster24)\n",
    "cluster25 = AnnData(cluster25)\n",
    "cluster26 = AnnData(cluster26)\n",
    "cluster27 = AnnData(cluster27)\n",
    "cluster28 = AnnData(cluster28)\n",
    "cluster29 = AnnData(cluster29)\n",
    "cluster30 = AnnData(cluster30)\n",
    "cluster31 = AnnData(cluster31)\n",
    "cluster32 = AnnData(cluster32)\n",
    "cluster33 = AnnData(cluster33)\n",
    "cluster34 = AnnData(cluster34)\n",
    "cluster35 = AnnData(cluster35)\n",
    "cluster36 = AnnData(cluster36)\n",
    "cluster37 = AnnData(cluster37)\n",
    "cluster38 = AnnData(cluster38)\n",
    "cluster39 = AnnData(cluster39)\n",
    "cluster40 = AnnData(cluster40)"
   ]
  },
  {
   "cell_type": "markdown",
   "id": "d1fd35ca-ae9b-4115-8759-60e0c04c3ec6",
   "metadata": {},
   "source": [
    "## PCA"
   ]
  },
  {
   "cell_type": "code",
   "execution_count": null,
   "id": "393991cf-dfb8-4339-9119-24a475d2dc6a",
   "metadata": {},
   "outputs": [],
   "source": [
    "# compute PCs for every Subcluster\n",
    "def pc(data1):\n",
    "    sc.settings.set_figure_params(dpi=50, fontsize=10,figsize=(8,8))\n",
    "    sc.tl.pca(data1, svd_solver='arpack')\n",
    "    sc.pl.pca_variance_ratio(data1, log=False, n_pcs=50)"
   ]
  },
  {
   "cell_type": "code",
   "execution_count": null,
   "id": "db6c81f2-7cf9-4120-8a06-1f59d1b14e23",
   "metadata": {},
   "outputs": [],
   "source": [
    "#pc(cluster0) \n",
    "#pc(cluster1) \n",
    "#pc(cluster2) \n",
    "#pc(cluster3)\n",
    "#pc(cluster4)\n",
    "#pc(cluster5) \n",
    "#pc(cluster6)\n",
    "#pc(cluster7)\n",
    "pc(cluster8)\n",
    "#pc(cluster9)\n",
    "#pc(cluster10) \n",
    "#pc(cluster11)\n",
    "#pc(cluster12) \n",
    "#pc(cluster13)\n",
    "#pc(cluster14) \n",
    "#pc(cluster15)\n",
    "#pc(cluster16)\n",
    "#pc(cluster17)\n",
    "#pc(cluster18)\n",
    "#pc(cluster20)\n",
    "#pc(cluster21)\n",
    "#pc(cluster22) \n",
    "#pc(cluster23) \n",
    "#pc(cluster24)\n",
    "#pc(cluster25)\n",
    "#pc(cluster28)\n",
    "#pc(cluster30)\n",
    "#pc(cluster31)\n",
    "#pc(cluster32)"
   ]
  },
  {
   "cell_type": "code",
   "execution_count": null,
   "id": "88aede62-e14f-42c5-868a-7f42a72ab0ab",
   "metadata": {},
   "outputs": [],
   "source": [
    "pc0 = 5\n",
    "pc1 = 4\n",
    "pc2 = 8\n",
    "pc3 = 7\n",
    "pc4 = 5\n",
    "pc5 = 5\n",
    "pc6 = 3\n",
    "pc7 = 6\n",
    "pc8 = 6\n",
    "pc9 = 5\n",
    "pc10 = 3\n",
    "pc11 = 3\n",
    "pc12 = 6\n",
    "pc13 = 6\n",
    "pc14 = 5\n",
    "pc15 = 5\n",
    "pc16 = 4\n",
    "pc17 = 4\n",
    "pc18 = 5\n",
    "pc19 = 6\n",
    "pc20 = 7\n",
    "pc21 = 6\n",
    "pc22= 6\n",
    "pc23 = 5\n",
    "pc24 = 5\n",
    "pc25 = 5\n",
    "pc28 = 4\n",
    "pc30 = 5\n",
    "pc31 = 5\n",
    "pc32 = 4"
   ]
  },
  {
   "cell_type": "markdown",
   "id": "20a18e82-7bed-469c-a525-a36d2e7ef8d3",
   "metadata": {},
   "source": [
    "## Generate UMAPs for Subcluster"
   ]
  },
  {
   "cell_type": "code",
   "execution_count": null,
   "id": "d9099304-239d-4772-86ce-13c5d9effe68",
   "metadata": {},
   "outputs": [],
   "source": [
    "def umap(data1, pc1, subcluster, res):\n",
    "    sc.settings.set_figure_params(dpi=100, fontsize=12,figsize=(10,10))\n",
    "    # Computing the neighborhood graph\n",
    "    sc.pp.neighbors(data1, n_neighbors=15, n_pcs=pc1)\n",
    "    sc.tl.umap(data1, random_state=0, min_dist=0.3, spread=0.4) \n",
    "    sc.tl.leiden(data1,resolution=res, key_added = \"leiden\")\n",
    "    \n",
    "    \n",
    "    #plot results\n",
    "    sc.pl.umap(data1, color ='leiden', s=60, use_raw=False, title = sample + ' Cluster ' + subcluster, save=  sample + '_' + subcluster + '.pdf')"
   ]
  },
  {
   "cell_type": "code",
   "execution_count": null,
   "id": "4ef9dd52-0fd4-46bc-8de8-f130c01bffd3",
   "metadata": {},
   "outputs": [],
   "source": [
    "#umap(cluster0, pc0, '0', 0.8)\n",
    "#umap(cluster1, pc1, '1', 0.5)\n",
    "umap(cluster2, pc2, '2', 0.5)\n",
    "umap(cluster3, pc3, '3', 0.5)\n",
    "#umap(cluster4, pc4, '4', 0.7)\n",
    "#umap(cluster5, pc5, '5', 0.5)\n",
    "#umap(cluster6, pc6, '6', 0.9)\n",
    "#umap(cluster7, pc7, '7', 0.7)\n",
    "umap(cluster8, pc8, '8', 0.5)\n",
    "#umap(cluster9, pc9, '9', 0.5)\n",
    "#umap(cluster10, pc10, '10', 1.4)\n",
    "#umap(cluster11, pc11, '11', 0.5)\n",
    "#umap(cluster12, pc12, '12', 0.6)\n",
    "#umap(cluster13, pc13, '13', 0.5)\n",
    "#umap(cluster14, pc14, '14', 0.5)\n",
    "umap(cluster15, pc15, '15', 0.7)\n",
    "#umap(cluster16, pc16, '16', 0.9)\n",
    "#umap(cluster17, pc17, '17', 0.5)\n",
    "#umap(cluster18, pc18, '18', 0.5)\n",
    "#umap(cluster19, pc19, '19', 0.5)\n",
    "#umap(cluster20, pc20, '20', 0.5)\n",
    "#umap(cluster21, pc21, '21', 0.5)\n",
    "#umap(cluster22, pc22, '22', 0.5)\n",
    "#umap(cluster23, pc23, '23', 0.5)\n",
    "#umap(cluster24, pc24, '24', 0.5)\n",
    "#umap(cluster25, pc25, '25', 0.5)\n",
    "#umap(cluster30, pc30, '30', 0.5)\n",
    "#umap(cluster31, pc31, '31', 0.5)\n",
    "#umap(cluster32, pc32, '32', 0.5)"
   ]
  },
  {
   "cell_type": "markdown",
   "id": "c90a2a7c-c736-4747-939f-4e66c54b61de",
   "metadata": {},
   "source": [
    "## Generate Heatmaps for Subcluster"
   ]
  },
  {
   "cell_type": "code",
   "execution_count": null,
   "id": "25c55a58-ccf3-41f5-90d2-40b68b217212",
   "metadata": {},
   "outputs": [],
   "source": [
    "# median per cluster for heatmap\n",
    "def median_cluster(data, numOfCluster, cluster):\n",
    "    cluster_count = 0\n",
    "    cluster_df = pd.DataFrame(columns=data.columns.to_list())\n",
    "\n",
    "    while cluster_count < numOfCluster:\n",
    "        id_of_cluster = [key for key, val in cluster.items() if val == str(cluster_count)] # get all IDs of one cluster\n",
    "        df_of_cluster = data.loc[id_of_cluster] # generate a dataframe with only the IDs of one cluster \n",
    "        median_of_cluster = df_of_cluster.median().to_frame().T # compute the median per marker (column)\n",
    "        cluster_df = pd.concat([cluster_df, median_of_cluster]) # merge the median results in a dataframe\n",
    "        cluster_count += 1\n",
    "    \n",
    "    cluster_df = cluster_df.reset_index()\n",
    "    cluster_df = cluster_df.drop('index', axis=1)\n",
    "\n",
    "    return cluster_df"
   ]
  },
  {
   "cell_type": "code",
   "execution_count": null,
   "id": "7a50b912-379f-43e1-8a8b-8e3e33a4247a",
   "metadata": {},
   "outputs": [],
   "source": [
    "#cluster0_data = median_cluster(cluster0.to_df(), 7, cluster0.obs['leiden'])\n",
    "#cluster1_data  = median_cluster(cluster1.to_df(), 4, cluster1.obs['leiden'])\n",
    "cluster2_data  = median_cluster(cluster2.to_df(), 4, cluster2.obs['leiden'])\n",
    "cluster3_data  = median_cluster(cluster3.to_df(), 3, cluster3.obs['leiden'])\n",
    "#cluster4_data  = median_cluster(cluster4.to_df(), 8, cluster4.obs['leiden'])\n",
    "#cluster5_data  = median_cluster(cluster5.to_df(), 7, cluster5.obs['leiden'])\n",
    "#cluster6_data  = median_cluster(cluster6.to_df(), 8, cluster6.obs['leiden'])\n",
    "#cluster7_data  = median_cluster(cluster7.to_df(), 6, cluster7.obs['leiden'])\n",
    "cluster8_data  = median_cluster(cluster8.to_df(), 4, cluster8.obs['leiden'])\n",
    "#cluster9_data  = median_cluster(cluster9.to_df(), 6, cluster9.obs['leiden'])\n",
    "#cluster10_data  = median_cluster(cluster10.to_df(), 14, cluster10.obs['leiden'])\n",
    "#cluster11_data  = median_cluster(cluster11.to_df(), 4, cluster11.obs['leiden'])\n",
    "#cluster12_data  = median_cluster(cluster12.to_df(), 7, cluster12.obs['leiden'])\n",
    "#cluster13_data  = median_cluster(cluster13.to_df(), 5, cluster13.obs['leiden'])\n",
    "#cluster14_data  = median_cluster(cluster14.to_df(), 7, cluster14.obs['leiden'])\n",
    "cluster15_data  = median_cluster(cluster15.to_df(), 6, cluster15.obs['leiden'])\n",
    "#cluster16_data  = median_cluster(cluster16.to_df(), 6, cluster16.obs['leiden'])\n",
    "#cluster17_data  = median_cluster(cluster17.to_df(), 6, cluster17.obs['leiden'])\n",
    "#cluster18_data  = median_cluster(cluster18.to_df(), 4, cluster18.obs['leiden'])\n",
    "#cluster19_data  = median_cluster(cluster19.to_df(), 3, cluster19.obs['leiden'])\n",
    "#cluster20_data  = median_cluster(cluster20.to_df(), 3, cluster20.obs['leiden'])\n",
    "#cluster21_data  = median_cluster(cluster21.to_df(), 6, cluster21.obs['leiden'])\n",
    "#cluster22_data  = median_cluster(cluster22.to_df(), 5, cluster22.obs['leiden'])\n",
    "#cluster23_data  = median_cluster(cluster23.to_df(), 6, cluster23.obs['leiden'])\n",
    "#cluster24_data  = median_cluster(cluster24.to_df(), 3, cluster24.obs['leiden'])\n",
    "#cluster25_data  = median_cluster(cluster25.to_df(), 3, cluster25.obs['leiden'])\n",
    "#cluster30_data  = median_cluster(cluster30.to_df(), 4, cluster30.obs['leiden'])\n",
    "#cluster31_data  = median_cluster(cluster31.to_df(), 6, cluster31.obs['leiden'])\n",
    "#cluster32_data  = median_cluster(cluster32.to_df(), 6, cluster32.obs['leiden'])"
   ]
  },
  {
   "cell_type": "code",
   "execution_count": null,
   "id": "fd31a9c3-2518-4f4e-9aa1-b2ff45da7a40",
   "metadata": {},
   "outputs": [],
   "source": []
  },
  {
   "cell_type": "code",
   "execution_count": null,
   "id": "478b671a-e837-4c25-a3e9-518e0f2dc603",
   "metadata": {
    "tags": []
   },
   "outputs": [],
   "source": [
    "sns.set(font_scale=0.8)\n",
    "def plotHeatmap(data, subcluster):\n",
    "    plot= sns.clustermap(data.T,\n",
    "                         standard_scale=1,  # Either 0 (rows) or 1 (columns).\n",
    "                         cmap='Reds', \n",
    "                         yticklabels=True, xticklabels=True,\n",
    "                         figsize=(10, 10),\n",
    "                         row_cluster=False,\n",
    "                         col_cluster=True)\n",
    "    plot.fig.suptitle(sample + ' Cluster ' + str(subcluster))\n",
    "    plot = plt.savefig('results_subcluster_' + sample + '/matrixplot' + sample + '_' + str(subcluster) + '.png', dpi=150);"
   ]
  },
  {
   "cell_type": "code",
   "execution_count": null,
   "id": "b7c15dbe-0850-4c01-813d-d427f10ccaaa",
   "metadata": {
    "tags": []
   },
   "outputs": [],
   "source": [
    "#plotHeatmap(cluster0_data, 0 )\n",
    "#plotHeatmap(cluster1_data, 1)\n",
    "plotHeatmap(cluster2_data, 2)\n",
    "plotHeatmap(cluster3_data, 3)\n",
    "#plotHeatmap(cluster4_data, 4)\n",
    "#plotHeatmap(cluster5_data, 5)\n",
    "#plotHeatmap(cluster6_data, 6)\n",
    "#plotHeatmap(cluster7_data, 7)\n",
    "plotHeatmap(cluster8_data, 8)\n",
    "#plotHeatmap(cluster9_data, 9)\n",
    "#plotHeatmap(cluster10_data, 10)\n",
    "#plotHeatmap(cluster11_data, 11)\n",
    "#plotHeatmap(cluster12_data, 12)\n",
    "#plotHeatmap(cluster13_data, 13)\n",
    "#plotHeatmap(cluster14_data, 14)\n",
    "plotHeatmap(cluster15_data, 15)\n",
    "#plotHeatmap(cluster16_data, 16)\n",
    "#plotHeatmap(cluster17_data, 17)\n",
    "#plotHeatmap(cluster19_data, 19)\n",
    "#plotHeatmap(cluster18_data, 18)\n",
    "#plotHeatmap(cluster20_data, 20)\n",
    "#plotHeatmap(cluster21_data, 21)\n",
    "#plotHeatmap(cluster22_data, 22)\n",
    "#plotHeatmap(cluster23_data, 23)\n",
    "#plotHeatmap(cluster24_data, 24)\n",
    "#plotHeatmap(cluster25_data, 25)\n",
    "#plotHeatmap(cluster30_data, 30)\n",
    "#plotHeatmap(cluster31_data, 31)\n",
    "#plotHeatmap(cluster32_data, 32)"
   ]
  },
  {
   "cell_type": "code",
   "execution_count": null,
   "id": "eaa11107-7d93-4ed9-b58d-f10247ff8ce8",
   "metadata": {},
   "outputs": [],
   "source": [
    "def countsPerCluster(data):\n",
    "    ser_counts = data.obs['leiden'].value_counts()\n",
    "    ser_counts.name = 'cell counts'\n",
    "    meta_leiden = pd.DataFrame(ser_counts)\n",
    "    return meta_leiden"
   ]
  },
  {
   "cell_type": "code",
   "execution_count": null,
   "id": "074bf350-3961-40f9-b0f8-2724d476a47a",
   "metadata": {},
   "outputs": [],
   "source": [
    "cellCounts = countsPerCluster(cluster15)"
   ]
  },
  {
   "cell_type": "code",
   "execution_count": null,
   "id": "d1e1c67e-6a0f-4747-b16e-7660c1898f32",
   "metadata": {},
   "outputs": [],
   "source": [
    "cellCounts['cell counts'].to_list()"
   ]
  },
  {
   "cell_type": "code",
   "execution_count": null,
   "id": "36c52a94-affb-4964-82b6-6f46e27dd5c7",
   "metadata": {},
   "outputs": [],
   "source": []
  },
  {
   "cell_type": "markdown",
   "id": "5a7ceec9-6b4d-4b94-a48a-1396ca1d8e6e",
   "metadata": {},
   "source": [
    "# Assigne new Subcluster to ROI"
   ]
  },
  {
   "cell_type": "code",
   "execution_count": null,
   "id": "55046b83-3281-4663-96c1-2c254c143e04",
   "metadata": {},
   "outputs": [],
   "source": [
    "def listOfSubcluster(current_subcluster, clusterNum, index):\n",
    "    newList = []\n",
    "    for idx in range(len(current_subcluster)):\n",
    "        newEntry = clusterNum + '.' + current_subcluster[idx]\n",
    "        newList.append(newEntry)\n",
    "    newdf = pd.DataFrame(data = newList, index = index)\n",
    "    return newdf"
   ]
  },
  {
   "cell_type": "code",
   "execution_count": null,
   "id": "5c0111ee-5ad7-4019-889d-1baf325c34d8",
   "metadata": {},
   "outputs": [],
   "source": [
    "# new Subcluster Lists\n",
    "#df0 = listOfSubcluster(cluster0.obs['leiden'].to_list(), '0', cluster0.obs['leiden'].index)\n",
    "#df1 = listOfSubcluster(cluster1.obs['leiden'].to_list(), '1', cluster1.obs['leiden'].index)\n",
    "df2 = listOfSubcluster(cluster2.obs['leiden'].to_list(), '2', cluster2.obs['leiden'].index)\n",
    "#df3 = listOfSubcluster(cluster3.obs['leiden'].to_list(), '3', cluster3.obs['leiden'].index)\n",
    "#df4 = listOfSubcluster(cluster4.obs['leiden'].to_list(), '4', cluster4.obs['leiden'].index)\n",
    "#df5 = listOfSubcluster(cluster5.obs['leiden'].to_list(), '5', cluster5.obs['leiden'].index)\n",
    "#df6 = listOfSubcluster(cluster6.obs['leiden'].to_list(), '6', cluster6.obs['leiden'].index)\n",
    "#df7 = listOfSubcluster(cluster7.obs['leiden'].to_list(), '7', cluster7.obs['leiden'].index)\n",
    "#df9 = listOfSubcluster(cluster9.obs['leiden'].to_list(), '9', cluster9.obs['leiden'].index)\n",
    "#df10 = listOfSubcluster(cluster10.obs['leiden'].to_list(), '10', cluster10.obs['leiden'].index)\n",
    "#df11 = listOfSubcluster(cluster11.obs['leiden'].to_list(), '11', cluster11.obs['leiden'].index)\n",
    "#df12 = listOfSubcluster(cluster12.obs['leiden'].to_list(), '12', cluster12.obs['leiden'].index)\n",
    "#df14 = listOfSubcluster(cluster14.obs['leiden'].to_list(), '14', cluster14.obs['leiden'].index)\n",
    "df15 = listOfSubcluster(cluster15.obs['leiden'].to_list(), '15', cluster15.obs['leiden'].index)\n",
    "#df18 = listOfSubcluster(cluster18.obs['leiden'].to_list(), '18', cluster18.obs['leiden'].index)\n",
    "#df21 = listOfSubcluster(cluster21.obs['leiden'].to_list(), '21', cluster21.obs['leiden'].index)\n",
    "#df22 = listOfSubcluster(cluster22.obs['leiden'].to_list(), '22', cluster22.obs['leiden'].index)\n",
    "#df23 = listOfSubcluster(cluster23.obs['leiden'].to_list(), '23', cluster23.obs['leiden'].index)\n",
    "#df31 = listOfSubcluster(cluster31.obs['leiden'].to_list(), '31', cluster31.obs['leiden'].index)\n",
    "#df32 = listOfSubcluster(cluster32.obs['leiden'].to_list(), '32', cluster32.obs['leiden'].index)"
   ]
  },
  {
   "cell_type": "code",
   "execution_count": null,
   "id": "0697433b-edaf-48ea-8dcb-8899d85097dc",
   "metadata": {},
   "outputs": [],
   "source": [
    "def oldCluster(clusterNum):\n",
    "    id_of_cluster = [key for key, val in adata.obs['leiden'].items() if val == str(clusterNum)]\n",
    "    df = pd.DataFrame(data = ([str(clusterNum)] * len(id_of_cluster)), index = id_of_cluster)\n",
    "    return df"
   ]
  },
  {
   "cell_type": "code",
   "execution_count": null,
   "id": "2692471a-0bb2-4ae0-bb90-d593d0f6081c",
   "metadata": {},
   "outputs": [],
   "source": [
    "df0 = oldCluster(0)\n",
    "df1 = oldCluster(1)\n",
    "#df2 = oldCluster(2)\n",
    "df3 = oldCluster(3)\n",
    "df4 = oldCluster(4)\n",
    "df5 = oldCluster(5)\n",
    "df6 = oldCluster(6)\n",
    "df7 = oldCluster(7)\n",
    "df8 = oldCluster(8)\n",
    "df9 = oldCluster(9)\n",
    "df10 = oldCluster(10)\n",
    "df11 = oldCluster(11)\n",
    "df12 = oldCluster(12)\n",
    "df13 = oldCluster(13)\n",
    "df14 = oldCluster(14)\n",
    "#df15 = oldCluster(15)\n",
    "df16 = oldCluster(16)\n",
    "df17 = oldCluster(17)\n",
    "df18 = oldCluster(18)\n",
    "df19 = oldCluster(19)\n",
    "df20 = oldCluster(20)\n",
    "df21 = oldCluster(21)\n",
    "df22 = oldCluster(22)\n",
    "df23 = oldCluster(23)\n",
    "df24 = oldCluster(24)\n",
    "df25 = oldCluster(25)\n",
    "df26 = oldCluster(26)\n",
    "df27 = oldCluster(27)\n",
    "df28 = oldCluster(28)\n",
    "df29 = oldCluster(29)\n",
    "df30 = oldCluster(30)\n",
    "df31 = oldCluster(31)\n",
    "df32 = oldCluster(32)\n",
    "df33 = oldCluster(33)\n",
    "df34 = oldCluster(34)\n",
    "df35 = oldCluster(35)\n",
    "df36 = oldCluster(36)\n",
    "df37 = oldCluster(37)\n",
    "df38 = oldCluster(38)\n",
    "df39 = oldCluster(39)\n",
    "df40 = oldCluster(40)\n",
    "df41 = oldCluster(41)\n",
    "df42 = oldCluster(42)\n",
    "df43 = oldCluster(43)"
   ]
  },
  {
   "cell_type": "code",
   "execution_count": null,
   "id": "2bbfc3aa-ac83-4729-8660-fa83a5ed5d53",
   "metadata": {},
   "outputs": [],
   "source": [
    "newCLuster = pd.concat([df0, df1, df2, df3, df4, df5, df6, df7, df8, df9, df10, df11, df12, df13, df14, df15, df16, df17, df18, df19, df20, df21, df22,\n",
    "                       df23, df24, df25, df26, df27, df28, df29, df30, df31, df32, df33, df34, df35, df36, df37, df38, df39, df40, df41, df42, df43])"
   ]
  },
  {
   "cell_type": "code",
   "execution_count": null,
   "id": "dc5d8fbb-7b55-4ab3-a41e-7b0a0a7c08a9",
   "metadata": {},
   "outputs": [],
   "source": [
    "adata.obs['subLeiden'] = newCLuster"
   ]
  },
  {
   "cell_type": "code",
   "execution_count": null,
   "id": "a2307dd7-29bf-4fff-8585-7b00e1a58320",
   "metadata": {},
   "outputs": [],
   "source": []
  },
  {
   "cell_type": "markdown",
   "id": "8265d12a-9a45-4fb3-8643-1678e8d7283c",
   "metadata": {},
   "source": [
    "# Heatmap with new subcluster"
   ]
  },
  {
   "cell_type": "code",
   "execution_count": null,
   "id": "3204d2e2-91d2-4cc7-8ea4-12e637dfb267",
   "metadata": {
    "tags": []
   },
   "outputs": [],
   "source": [
    "# median per cluster for heatmap\n",
    "def median_clusterAll(data, numOfCluster, cluster):\n",
    "    cluster_count = 0\n",
    "    cluster_df = pd.DataFrame(columns=data.columns.to_list())\n",
    "\n",
    "    while cluster_count < numOfCluster:\n",
    "        id_of_cluster = [key for key, val in cluster.items() if val == str(cluster_count)] # get all IDs of one cluster\n",
    "        df_of_cluster = data.loc[id_of_cluster] # generate a dataframe with only the IDs of one cluster \n",
    "        median_of_cluster = df_of_cluster.median().to_frame().T # compute the median per marker (column)\n",
    "        cluster_df = pd.concat([cluster_df, median_of_cluster]) # merge the median results in a dataframe\n",
    "        cluster_count += 1\n",
    "    \n",
    "    cluster_df = cluster_df.reset_index()\n",
    "    cluster_df = cluster_df.drop('index', axis=1)\n",
    "\n",
    "    return cluster_df"
   ]
  },
  {
   "cell_type": "code",
   "execution_count": null,
   "id": "a0372783-0a22-4e5e-9bad-2e360d2b72eb",
   "metadata": {},
   "outputs": [],
   "source": [
    "cluster_df = median_clusterAll(adata.to_df(), 35, adata.obs['subLeiden']) # compute median per subcluster\n",
    "cluster_df= cluster_df.drop([2, 15], axis=0) # drop old/original cluster"
   ]
  },
  {
   "cell_type": "code",
   "execution_count": null,
   "id": "af591847-00b9-4633-96b7-44b407404c36",
   "metadata": {},
   "outputs": [],
   "source": [
    "idx0 = np.unique(df0[0].to_list())"
   ]
  },
  {
   "cell_type": "code",
   "execution_count": null,
   "id": "abfea708-37d3-47a1-953f-0a8c9eaf09e2",
   "metadata": {},
   "outputs": [],
   "source": [
    "def newIdx(df, data):\n",
    "    idx0 = np.unique(df[0].to_list())\n",
    "    data['idx'] = idx0\n",
    "    data = data.set_index('idx')\n",
    "    return data"
   ]
  },
  {
   "cell_type": "code",
   "execution_count": null,
   "id": "23988511-01e0-46f2-a23f-67d5bd21da3f",
   "metadata": {},
   "outputs": [],
   "source": [
    "# reindex the data, so that the subcluster have the correct index\n",
    "#df0 = newIdx(df0, cluster0_data)\n",
    "df2 = newIdx(df2, cluster2_data)\n",
    "df15 = newIdx(df15, cluster15_data)"
   ]
  },
  {
   "cell_type": "code",
   "execution_count": null,
   "id": "e4a6d5fa-5420-4052-9f4d-31472a1206c8",
   "metadata": {},
   "outputs": [],
   "source": [
    "# add the new subcluster to the dataframe\n",
    "dataAll = cluster_df.append([df2, df15])\n",
    "dataAll.shape"
   ]
  },
  {
   "cell_type": "code",
   "execution_count": null,
   "id": "d2929a9a-918a-4aab-975f-39929c42d8cf",
   "metadata": {
    "tags": []
   },
   "outputs": [],
   "source": [
    "sns.set(font_scale=1)\n",
    "def plotHeatmapAll(data, name):\n",
    "    plot= sns.clustermap(data.T,\n",
    "                         standard_scale=1,  # Either 0 (rows) or 1 (columns).\n",
    "                         cmap='Reds', \n",
    "                         yticklabels=True, xticklabels=True,\n",
    "                         figsize=(10, 10),\n",
    "                         row_cluster=True,\n",
    "                         col_cluster=True,\n",
    "                         dendrogram_ratio=0.1)\n",
    "\n",
    "    plt.setp(plot.ax_heatmap.yaxis.get_majorticklabels(), rotation=0)\n",
    "    plt.setp(plot.ax_heatmap.xaxis.get_majorticklabels(), rotation=35, ha='right', rotation_mode='anchor')\n",
    "    plt.subplots_adjust(top=0.98) # space between title and plot\n",
    "    plot.fig.suptitle('Cell Type Annotation ' + name,  y=1, fontsize=12) \n",
    "    plot.fig.subplots_adjust(right=0.7)\n",
    "    plot.ax_cbar.set_position((0.89, .28, .015, .4))\n",
    "    plot = plt.savefig('results_subcluster_' + sample + '/Newmatrixplot' + sample + '.png', dpi=250, bbox_inches='tight');"
   ]
  },
  {
   "cell_type": "code",
   "execution_count": null,
   "id": "dfe0a4d9-75ce-4b8c-b040-f3db4e06fe2f",
   "metadata": {
    "tags": []
   },
   "outputs": [],
   "source": [
    "sc.settings.set_figure_params(dpi=220, fontsize=5, dpi_save=700, figsize=(15,15))\n",
    "plotHeatmapAll(dataAll, sample)"
   ]
  },
  {
   "cell_type": "markdown",
   "id": "69e5f873-7ef5-4ea5-bd46-3e283f164dee",
   "metadata": {},
   "source": [
    "# Annotate"
   ]
  },
  {
   "cell_type": "code",
   "execution_count": null,
   "id": "73258871-f18b-4f71-94b2-4b0c46279f9c",
   "metadata": {
    "tags": []
   },
   "outputs": [],
   "source": [
    "cellTypes=[\n",
    "'Granulocyte',\n",
    "'Granulocyte',\n",
    "#2' : '2',\n",
    "'Effector T cells ',\n",
    "'Tumour cells',\n",
    "'Tumour cells',\n",
    "'Collagen ',\n",
    "'Tumour cells',\n",
    "'Dendritic cells', \n",
    "'Dendritic cells', \n",
    "'CD8+ T cells',\n",
    "'Tumour cells',\n",
    "'Tumour cells',\n",
    "'CD8+ T cells',\n",
    "'Granulocyte',\n",
    "#'15' :  'Macrophage15',\n",
    "'Tumour cells',\n",
    "'B cells',\n",
    "'Collagen ',\n",
    "'Dendritic cells', \n",
    "'Mast cells',\n",
    "'CD8+ T cells',\n",
    "'CD4+ T cells',\n",
    "'M2 Macrophages',\n",
    "'Collagen ',\n",
    "'Tumour cells',\n",
    "'NK cells',\n",
    "'Granulocyte',\n",
    "'Unknown',\n",
    "'Fibroblasts',\n",
    "'Collagen ',\n",
    "'Unknown',\n",
    "'Plasma cells',\n",
    "'Unknown',\n",
    "'Tumour cells',\n",
    "  \n",
    "# 2\n",
    "'CD4+ T cells',\n",
    "'Effector T cells ',\n",
    "'CD4+ T cells',\n",
    "'CD4+ T cells',\n",
    "\n",
    "# 3\n",
    "'M1 Macrophages',\n",
    "'CAF',\n",
    "'M2 Macrophages',\n",
    "'M1 Macrophages',\n",
    "'M2 Macrophages',\n",
    "'M1 Macrophages',\n",
    " \n",
    "]"
   ]
  },
  {
   "cell_type": "code",
   "execution_count": null,
   "id": "369f103f-37ae-48ab-851d-74a48241c36b",
   "metadata": {},
   "outputs": [],
   "source": [
    "dataAll.index = cellTypes"
   ]
  },
  {
   "cell_type": "code",
   "execution_count": null,
   "id": "3942ae11-a3bc-451d-a98b-67d83e36e776",
   "metadata": {
    "tags": []
   },
   "outputs": [],
   "source": [
    "plotHeatmapAll(dataAll,  'Annotated')"
   ]
  },
  {
   "cell_type": "markdown",
   "id": "d10c10ce-a9a1-4e22-9a7d-4e748428617b",
   "metadata": {},
   "source": [
    "# Merge"
   ]
  },
  {
   "cell_type": "code",
   "execution_count": null,
   "id": "4e955fe1-d00d-4c4f-9c71-c81107ec8fd3",
   "metadata": {},
   "outputs": [],
   "source": [
    "annotated_merged_data = dataAll.groupby(level=0).mean()"
   ]
  },
  {
   "cell_type": "code",
   "execution_count": null,
   "id": "5982d543-75d2-4743-9c70-fb70851ba979",
   "metadata": {
    "tags": []
   },
   "outputs": [],
   "source": [
    "sc.settings.set_figure_params(dpi=220, fontsize=12, dpi_save=700, figsize=(10,10))\n",
    "plotHeatmapAll(annotated_merged_data, sample)"
   ]
  },
  {
   "cell_type": "markdown",
   "id": "13645636-f1ab-4eb0-abab-788cbab48c62",
   "metadata": {},
   "source": [
    "# Annotated UMAP"
   ]
  },
  {
   "cell_type": "code",
   "execution_count": null,
   "id": "8fc20b1d-0c5b-4a32-bf1f-931dfcd8b182",
   "metadata": {},
   "outputs": [],
   "source": [
    "old_to_new = {\n",
    "'0' : 'Granulocyte',\n",
    "'1' : 'Granulocyte',\n",
    "#2' : '2',\n",
    "'3' : 'Effector T cells ',\n",
    "'4' :  'Tumour cells',\n",
    "'5' :  'Tumour cells',\n",
    "'6' :  'Collagen ',\n",
    "'7' : 'Tumour cells',\n",
    "'8' :  'Dendritic cells', \n",
    "'9' :  'Dendritic cells', \n",
    "'10' :  'CD8+ T cells',\n",
    "'11' :  'Tumour cells',\n",
    "'12' :  'Tumour cells',\n",
    "'13' :  'CD8+ T cells',\n",
    "'14' :  'Granulocyte',\n",
    "#'15' :  'Macrophage15',\n",
    "'16' :  'Tumour cells',\n",
    "'17' :  'B cells',\n",
    "'18' :  'Collagen ',\n",
    "'19' :  'Dendritic cells', \n",
    "'20' :  'Mast cells',\n",
    "'21' :  'CD8+ T cells',\n",
    "'22' :  'CD4+ T cells',\n",
    "'23' :  'M2 Macrophages',\n",
    "'24' :  'Collagen ',\n",
    "'25' :  'Tumour cells',\n",
    "'26' :  'NK cells',\n",
    "'27' :  'Granulocyte',\n",
    "'28' :  'Unknown',\n",
    "'29' :  'Fibroblasts',\n",
    "'30' :  'Collagen ',\n",
    "'31' :  'Unknown',\n",
    "'32' :  'Plasma cells',\n",
    "'33' :  'Unknown',\n",
    "'34' :  'Tumour cells',\n",
    "    \n",
    "'2.0' : 'CD4+ T cells',\n",
    "'2.1' : 'Effector T cells ',\n",
    "'2.2' : 'CD4+ T cells',\n",
    "'2.3' : 'CD4+ T cells',\n",
    "    \n",
    "'15.0' : 'M1 Macrophages',\n",
    "'15.1' : 'CAF',\n",
    "'15.2' : 'M2 Macrophages',\n",
    "'15.3' : 'M1 Macrophages',\n",
    "'15.4' : 'M2 Macrophages',\n",
    "'15.5' : 'M1 Macrophages',\n",
    " \n",
    "}\n",
    "adata.obs['annotation'] = (adata.obs['subLeiden'].map(old_to_new).astype('category'))"
   ]
  },
  {
   "cell_type": "code",
   "execution_count": null,
   "id": "e0df582a-29d6-46af-bd84-525fc4791f22",
   "metadata": {},
   "outputs": [],
   "source": [
    "sc.settings.set_figure_params(dpi=160, fontsize=10, dpi_save=300, figsize=(7,7))\n",
    "sc.pl.umap(adata, color=['annotation'], s=10, use_raw=False,  legend_fontsize=10, title = sample, save = sample + '.png', color_map='coolwarm', vcenter=0)\n",
    "sc.pl.umap(adata, color=['annotation'], s=10, use_raw=False, legend_fontsize=10,  title = sample, legend_loc='on data', save = sample + '_logOnData.png', color_map='coolwarm', vcenter=0)"
   ]
  },
  {
   "cell_type": "code",
   "execution_count": null,
   "id": "c0930cef-9540-4e90-9bcc-488aebacabc9",
   "metadata": {
    "tags": []
   },
   "outputs": [],
   "source": [
    "selced_marker = [\n",
    "'CD45',  \n",
    "'CD45RO',   \n",
    "'CD3',\n",
    "# CD2,\n",
    "'CD4',\n",
    "'CD8',    \n",
    "'CD25-1',     \n",
    "'FoxP3',\n",
    "'CD152 CTLA4',   \n",
    "#PD-L1\n",
    "'CD19',     \n",
    "'CD20 Cytoplasmic',\n",
    "'CD38',     \n",
    "'CD138', \n",
    "'CD69',    \n",
    "'CD56',    \n",
    "'CD314 NKG2D',     \n",
    "'CD61',\n",
    "'CD68', \n",
    "'CD206',     \n",
    "'CD163',# IN ROI19 on Tumour cells       \n",
    "'CD11c', \n",
    "'CD123',\n",
    "'CD15',    \n",
    "'CD33',  \n",
    "'CD117',   \n",
    "'HLA-DR',\n",
    "'Ki-67',     \n",
    "'HNF-4-alpha',  \n",
    "'Cytokeratin',    \n",
    "'CD99',\n",
    "'CD31',    \n",
    "'CD105',    \n",
    "'Podoplanin',\n",
    "'SM Actin',\n",
    "'Myosin SM',\n",
    "'Collagen III',\n",
    "'Collagen IV',\n",
    "'Fibronectin',\n",
    "'Galectin9',    \n",
    "]"
   ]
  },
  {
   "cell_type": "raw",
   "id": "8e14302a-dda6-46bf-a3b7-74f750f0d99c",
   "metadata": {
    "tags": []
   },
   "source": [
    "sc.set_figure_params(fontsize=14, figsize=(10,10))\n",
    "sc.pl.umap(adata, color=selced_marker, s=20, use_raw=False,  legend_fontsize=12, color_map='coolwarm', vcenter=0)"
   ]
  },
  {
   "cell_type": "code",
   "execution_count": null,
   "id": "b62b6987-b030-4943-95d3-517f8b84eea0",
   "metadata": {},
   "outputs": [],
   "source": [
    "sc.settings.set_figure_params(dpi=160, fontsize=16, dpi_save=300, figsize=(7,7))\n",
    "sc.pl.umap(adata, color=['CD45', 'Cytokeratin'], s=10, use_raw=False,  legend_fontsize=16, color_map='coolwarm', vcenter=0, save = sample + '_Expression.png',)"
   ]
  },
  {
   "cell_type": "code",
   "execution_count": null,
   "id": "71f86b12-065d-4785-a415-a2e08cbea420",
   "metadata": {},
   "outputs": [],
   "source": [
    "sc.settings.set_figure_params(dpi=160, fontsize=10, dpi_save=300, figsize=(7,7))\n",
    "sc.pl.spatial(adata, color=\"annotation\", spot_size=40, scale_factor=1, legend_fontsize=10, save = '_Spatial' + sample + '.png', title = sample)"
   ]
  },
  {
   "cell_type": "code",
   "execution_count": null,
   "id": "198eca48-411b-4d13-b60e-242a4e6d6f5d",
   "metadata": {},
   "outputs": [],
   "source": []
  }
 ],
 "metadata": {
  "kernelspec": {
   "display_name": "Python 3 (ipykernel)",
   "language": "python",
   "name": "python3"
  },
  "language_info": {
   "codemirror_mode": {
    "name": "ipython",
    "version": 3
   },
   "file_extension": ".py",
   "mimetype": "text/x-python",
   "name": "python",
   "nbconvert_exporter": "python",
   "pygments_lexer": "ipython3",
   "version": "3.7.12"
  }
 },
 "nbformat": 4,
 "nbformat_minor": 5
}
