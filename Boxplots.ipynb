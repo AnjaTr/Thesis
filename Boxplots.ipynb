{
 "cells": [
  {
   "cell_type": "code",
   "execution_count": 1,
   "id": "66253c72-13f6-4296-8c1c-81aa0a874ab9",
   "metadata": {},
   "outputs": [],
   "source": [
    "import pandas as pd\n",
    "import pickle\n",
    "import itertools\n",
    "import numpy as np"
   ]
  },
  {
   "cell_type": "code",
   "execution_count": 2,
   "id": "edd84bd9-9545-4afc-b138-71841152ce4b",
   "metadata": {},
   "outputs": [],
   "source": [
    "# read data\n",
    "path = 'HCC_nojunk.csv'\n",
    "raw_data = pd.read_csv(path, sep=',') "
   ]
  },
  {
   "cell_type": "code",
   "execution_count": 3,
   "id": "6a8e6865-8d93-49e2-b9fb-4d11da409aa5",
   "metadata": {},
   "outputs": [],
   "source": [
    "# read in SCIMA results\n",
    "output_name = 'n9_k10_Treg_out_19_33_23'\n",
    "name = 'Regulatory T cells'\n",
    "#name = 'M2 Macrophages PD-L1+'\n",
    "g = pd.read_csv('results_SCIMA/' + output_name + '/analysis/g_1.txt', sep='\\t',  header=None)\n",
    "g.columns = ['AllScore']\n",
    "\n",
    "# read train/test resuts\n",
    "testCell_all = list(itertools.chain(*pickle.load(open('results_SCIMA/' + output_name + '/model/test_cell_all.p', 'rb'))))\n",
    "trainCell_all = list(itertools.chain(*pickle.load(open('results_SCIMA/' + output_name + '/model/train_cell_all.p', 'rb'))))\n",
    "cellIDs = trainCell_all + testCell_all\n",
    "\n",
    "# read phnotypes\n",
    "testCell_pheno = pickle.load(open('results_SCIMA/' + output_name + '/model/test_phen_all.p', 'rb'))\n",
    "trainCell_pheno = pickle.load(open('results_SCIMA/' + output_name + '/model/train_phen_all.p', 'rb'))\n",
    "cellPheno = trainCell_pheno + testCell_pheno"
   ]
  },
  {
   "cell_type": "code",
   "execution_count": 4,
   "id": "93944c26-7ab9-45ea-ba12-590e999c1cc9",
   "metadata": {},
   "outputs": [],
   "source": [
    "obj = pd.DataFrame({'X': cellIDs, 'pheno': cellPheno}) # x- cellIds"
   ]
  },
  {
   "cell_type": "code",
   "execution_count": 5,
   "id": "dd86640d-ac03-42ac-8e4b-4dd6cae024b2",
   "metadata": {},
   "outputs": [
    {
     "name": "stderr",
     "output_type": "stream",
     "text": [
      "/tmp/ipykernel_3956903/3344937781.py:2: SettingWithCopyWarning: \n",
      "A value is trying to be set on a copy of a slice from a DataFrame.\n",
      "Try using .loc[row_indexer,col_indexer] = value instead\n",
      "\n",
      "See the caveats in the documentation: https://pandas.pydata.org/pandas-docs/stable/user_guide/indexing.html#returning-a-view-versus-a-copy\n",
      "  uobj['NN'] = 1\n"
     ]
    }
   ],
   "source": [
    "uobj = obj.drop_duplicates(subset=['X'])\n",
    "uobj['NN'] = 1"
   ]
  },
  {
   "cell_type": "code",
   "execution_count": 6,
   "id": "35c2ff57-70a4-4dd1-b6c9-c3f99c0c6264",
   "metadata": {},
   "outputs": [],
   "source": [
    "# generate df with data, oheno, NN, g (drop NA)\n",
    "dumap0 = raw_data.merge(uobj, left_on='X', right_on='X', how='outer')"
   ]
  },
  {
   "cell_type": "code",
   "execution_count": 7,
   "id": "32688057-0d4b-4509-a6c6-089b2b13e466",
   "metadata": {},
   "outputs": [],
   "source": [
    "dumap0['AllScore'] = g\n",
    "dumap0['NN'] = dumap0['NN'].replace(np.nan, 0)"
   ]
  },
  {
   "cell_type": "code",
   "execution_count": 8,
   "id": "78822bdf-52c1-4893-9f45-18647c678dc7",
   "metadata": {},
   "outputs": [],
   "source": [
    "# Double check t computation!!!\n",
    "t= np.quantile(np.array(dumap0.AllScore)[np.array(dumap0.NN == 1)], 0.95)"
   ]
  },
  {
   "cell_type": "code",
   "execution_count": 9,
   "id": "f345dbbd-61a8-40a3-a187-3b860cac040c",
   "metadata": {},
   "outputs": [],
   "source": [
    "# factor used as in R script\n",
    "dumap0['filterA'] = list(map(int, dumap0['AllScore'] > t)) # array[0,1] -> 0:false, 1:true\n",
    "dumap0['filter'] = list(map(int, dumap0['AllScore'] > t))\n",
    "\n",
    "# change all values in 'filter' to -1 where NN ==0\n",
    "bool_pos = [i for i, x in enumerate(((dumap0['NN']) == 0).to_list()) if x]\n",
    "dumap0.loc[bool_pos, 'filter'] =-1"
   ]
  },
  {
   "cell_type": "code",
   "execution_count": 10,
   "id": "88bfdd0a-749a-4676-a81d-e14914a8dfdf",
   "metadata": {},
   "outputs": [],
   "source": [
    "dumap0['tispat'] = (dumap0['Patient'] + ' - ' + dumap0['Tissue']).to_list()"
   ]
  },
  {
   "cell_type": "code",
   "execution_count": 11,
   "id": "88aab058-db3b-463c-9dfd-5ab68c0b3ede",
   "metadata": {},
   "outputs": [],
   "source": [
    "# chose filter\n",
    "subdf = dumap0.loc[dumap0['filter'].isin([0, 1])]\n",
    "obj2 = obj.loc[obj['pheno'].isin([2, 1, 0])]"
   ]
  },
  {
   "cell_type": "code",
   "execution_count": 12,
   "id": "ce05ad34-d377-438d-a376-9d82f39e39f3",
   "metadata": {},
   "outputs": [],
   "source": [
    "obj2 = obj2.merge(subdf,  left_on='X', right_on='X', suffixes=('_x', ''))"
   ]
  },
  {
   "cell_type": "code",
   "execution_count": 13,
   "id": "ac4c482d-6ab9-48d1-a48f-85a1b2081e80",
   "metadata": {},
   "outputs": [],
   "source": [
    "# compute filter frequency\n",
    "nsel = pd.DataFrame(obj2['tispat'].value_counts())\n",
    "nsel = nsel.reset_index(level=0)\n",
    "nsel = nsel.rename({'index': 'tispat', 'tispat' : 'Freq'}, axis='columns')"
   ]
  },
  {
   "cell_type": "code",
   "execution_count": 14,
   "id": "49c04f34-415b-425d-8cc9-c69d54af0bf2",
   "metadata": {},
   "outputs": [],
   "source": [
    "# choose only filter 1\n",
    "obj2['bool_1'] = obj2['filter'] ==1\n",
    "subsel0 = obj2[obj2['bool_1'] == True]\n",
    "subsel0 = subsel0.drop('bool_1', axis=1)\n",
    "\n",
    "subsel = pd.DataFrame(subsel0['tispat'].value_counts()).reset_index(level=0)\n",
    "subsel = subsel.rename({'index' : 'tispat', 'tispat': 'filter'}, axis='columns')"
   ]
  },
  {
   "cell_type": "code",
   "execution_count": 15,
   "id": "8b13937b-d221-4db4-9c6c-6c2a607bd071",
   "metadata": {},
   "outputs": [],
   "source": [
    "nsel = nsel.merge(subsel, on='tispat', how='left')"
   ]
  },
  {
   "cell_type": "code",
   "execution_count": 16,
   "id": "d5eb459a-a516-4725-b7d0-e82ad02e5f75",
   "metadata": {},
   "outputs": [],
   "source": [
    "nsel['perc'] = (nsel['filter']/nsel['Freq'])*100"
   ]
  },
  {
   "cell_type": "code",
   "execution_count": null,
   "id": "93a27821-2e67-4f2c-a4c6-d190143cbeb9",
   "metadata": {},
   "outputs": [],
   "source": []
  },
  {
   "cell_type": "code",
   "execution_count": 17,
   "id": "d5b81bf4-6080-4c2d-8962-ee8e615c9725",
   "metadata": {},
   "outputs": [],
   "source": [
    "phenotypes = pd.DataFrame(dumap0[['tispat', 'Tissue']])\n",
    "phenotypes = phenotypes.drop_duplicates('tispat')"
   ]
  },
  {
   "cell_type": "code",
   "execution_count": 18,
   "id": "aeb2103b-a608-4381-857e-cb2b4f0a3df6",
   "metadata": {},
   "outputs": [],
   "source": [
    "nsel = nsel.merge(phenotypes, on='tispat', how='left')"
   ]
  },
  {
   "cell_type": "code",
   "execution_count": 19,
   "id": "9f1e1ee3-79ba-4759-ab1f-33bff10ee3a2",
   "metadata": {},
   "outputs": [],
   "source": [
    "subdf = dumap0.loc[dumap0['filter'].isin([1, 0])]\n",
    "obj2 = obj.loc[obj['pheno'].isin([3])]\n",
    "obj2 = obj2.merge(subdf, left_on='X', right_on='X',  suffixes=('_x', ''))"
   ]
  },
  {
   "cell_type": "code",
   "execution_count": 20,
   "id": "5ab8da70-391b-4e6c-abac-100accad2673",
   "metadata": {},
   "outputs": [],
   "source": [
    "nselb = pd.DataFrame(obj2['tispat'].value_counts())\n",
    "nselb = nselb.reset_index(level=0)\n",
    "nselb = nselb.rename({'index': 'tispat', 'tispat' : 'Freq'}, axis='columns')"
   ]
  },
  {
   "cell_type": "code",
   "execution_count": null,
   "id": "723ab427-2311-4179-aef8-6d09d4c0f789",
   "metadata": {},
   "outputs": [],
   "source": []
  },
  {
   "cell_type": "code",
   "execution_count": 21,
   "id": "28e6a604-5d83-4e54-919d-2cc23f571774",
   "metadata": {},
   "outputs": [],
   "source": [
    "obj2['bool_1'] = obj2['filter'] ==1\n",
    "subsel0 = obj2[obj2['bool_1'] == True]\n",
    "subsel0 = subsel0.drop('bool_1', axis=1)\n",
    "\n",
    "subsel = pd.DataFrame(subsel0['tispat'].value_counts()).reset_index(level=0)\n",
    "subsel = subsel.rename({'index' : 'tispat', 'tispat': 'filter'}, axis='columns')"
   ]
  },
  {
   "cell_type": "code",
   "execution_count": 22,
   "id": "0acc7134-01a6-4d54-9c7b-fce0c90daf0b",
   "metadata": {},
   "outputs": [],
   "source": [
    "nselb = pd.DataFrame(obj2['tispat'].value_counts())\n",
    "nselb = nselb.reset_index(level=0)\n",
    "nselb = nselb.rename({'index': 'tispat', 'tispat' : 'Freq'}, axis='columns')\n",
    "\n",
    "\n",
    "nselb = nselb.merge(subsel, on='tispat', how='left')\n",
    "nselb['perc'] = (nselb['filter']/nsel['Freq'])*100"
   ]
  },
  {
   "cell_type": "code",
   "execution_count": 23,
   "id": "886439a7-e513-4b2c-bc10-a2357cb8b57c",
   "metadata": {},
   "outputs": [],
   "source": [
    "phenotypes = pd.DataFrame(dumap0[['tispat', 'Tissue']])\n",
    "phenotypes = phenotypes.drop_duplicates('tispat')"
   ]
  },
  {
   "cell_type": "code",
   "execution_count": 24,
   "id": "dbcd5928-b322-42eb-916c-cdec5246a105",
   "metadata": {},
   "outputs": [],
   "source": [
    "def names(row):\n",
    "    if row['Tissue'] == 'normalLiver': \n",
    "        return 'BnormalLiver'\n",
    "    elif row['Tissue'] == 'core':\n",
    "        return 'Bcore'\n",
    "    else:\n",
    "        return 'Brim'\n",
    "\n",
    "phenotypes['Tissue'] = phenotypes.apply(names, axis=1)"
   ]
  },
  {
   "cell_type": "code",
   "execution_count": 25,
   "id": "891b0d7e-d6f2-4268-817b-d3bf82aa6fc0",
   "metadata": {},
   "outputs": [],
   "source": [
    "nselb = nselb.merge(phenotypes, on='tispat', how='left')\n",
    "nselb['perc'] = (nselb['filter']/nsel['Freq'])*100"
   ]
  },
  {
   "cell_type": "code",
   "execution_count": 26,
   "id": "c80fdcae-96f2-4dba-8db3-8bb3a73f6f95",
   "metadata": {},
   "outputs": [],
   "source": [
    "frames = [nselb, nsel]\n",
    "nsel0 = pd.concat(frames)"
   ]
  },
  {
   "cell_type": "code",
   "execution_count": 28,
   "id": "3073ac02-93cd-4625-98bb-71edbefce79b",
   "metadata": {},
   "outputs": [
    {
     "name": "stdout",
     "output_type": "stream",
     "text": [
      "rim v.s. normalLiver: Mann-Whitney-Wilcoxon test two-sided with Bonferroni correction, P_val=4.468e-01 U_stat=1.560e+02\n",
      "core v.s. rim: Mann-Whitney-Wilcoxon test two-sided with Bonferroni correction, P_val=1.000e+00 U_stat=1.390e+02\n",
      "core v.s. normalLiver: Mann-Whitney-Wilcoxon test two-sided with Bonferroni correction, P_val=2.212e-02 U_stat=1.830e+02\n",
      "BnormalLiver v.s. normalLiver: Mann-Whitney-Wilcoxon test two-sided with Bonferroni correction, P_val=2.145e-04 U_stat=0.000e+00\n",
      "Brim v.s. rim: Mann-Whitney-Wilcoxon test two-sided with Bonferroni correction, P_val=4.656e-04 U_stat=1.400e+01\n",
      "Bcore v.s. core: Mann-Whitney-Wilcoxon test two-sided with Bonferroni correction, P_val=1.521e-04 U_stat=8.000e+00\n"
     ]
    },
    {
     "data": {
      "image/png": "[encoded data removed]",
      "text/plain": [
       "<Figure size 1500x1000 with 1 Axes>"
      ]
     },
     "metadata": {},
     "output_type": "display_data"
    }
   ],
   "source": [
    "import matplotlib.pyplot as plt\n",
    "import seaborn as sns\n",
    "from statannot import add_stat_annotation\n",
    "\n",
    "plt.figure(figsize=(15,10))\n",
    "sns.set(style=\"ticks\")\n",
    "\n",
    "flierprops = dict(marker='o', markerfacecolor='black', markersize=3,  markeredgecolor='black')\n",
    "ax = sns.boxplot(y = nsel0['perc'], \n",
    "                 x = nsel0['Tissue'],\n",
    "                 flierprops=flierprops,\n",
    "                 palette = \"Set2\")\n",
    "ax.axes.set_title(name,fontsize=30)\n",
    "#ax.set_yticks([20, 40, 60, 80, 100])\n",
    "ax.set_xlabel(\"Tissue\",fontsize=20)\n",
    "ax.set_ylabel(\"Selected cell freq(%)\",fontsize=20)\n",
    "\n",
    "\n",
    "hue = \"smoker\"\n",
    "test_results = add_stat_annotation(ax, data=nsel0, x=\"Tissue\", y=\"perc\", \n",
    "                    box_pairs=[\n",
    "                        (\"BnormalLiver\", \"normalLiver\"), (\"Brim\", \"rim\"), (\"Bcore\", \"core\"),\n",
    "                        (\"normalLiver\", \"rim\"), (\"normalLiver\", \"core\"), (\"rim\", \"core\")],\n",
    "                    test='Mann-Whitney', text_format='simple', loc='inside', verbose=2,)\n",
    "\n",
    "\n",
    "test_results\n",
    "plt.grid()\n",
    "plt.savefig(output_name + \".png\");"
   ]
  },
  {
   "cell_type": "code",
   "execution_count": null,
   "id": "65151060-0e28-418d-9d3e-030e26803f43",
   "metadata": {},
   "outputs": [],
   "source": []
  },
  {
   "cell_type": "code",
   "execution_count": null,
   "id": "4dc825dd-02a6-4449-9770-1911f94be483",
   "metadata": {},
   "outputs": [],
   "source": []
  },
  {
   "cell_type": "code",
   "execution_count": null,
   "id": "1a513b10-e184-48ce-b113-f4db2aa0f61f",
   "metadata": {},
   "outputs": [],
   "source": []
  }
 ],
 "metadata": {
  "kernelspec": {
   "display_name": "Python 3 (ipykernel)",
   "language": "python",
   "name": "python3"
  },
  "language_info": {
   "codemirror_mode": {
    "name": "ipython",
    "version": 3
   },
   "file_extension": ".py",
   "mimetype": "text/x-python",
   "name": "python",
   "nbconvert_exporter": "python",
   "pygments_lexer": "ipython3",
   "version": "3.9.13"
  }
 },
 "nbformat": 4,
 "nbformat_minor": 5
}
